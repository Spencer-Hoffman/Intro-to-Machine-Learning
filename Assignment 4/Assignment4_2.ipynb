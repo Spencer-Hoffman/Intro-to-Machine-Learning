{
 "cells": [
  {
   "cell_type": "code",
   "execution_count": 1,
   "metadata": {
    "colab": {
     "base_uri": "https://localhost:8080/",
     "height": 870
    },
    "id": "zjq2pc2uBY1U",
    "outputId": "e3e447a8-b979-4945-e28c-8df884d0d809",
    "scrolled": true
   },
   "outputs": [
    {
     "name": "stdout",
     "output_type": "stream",
     "text": [
      "Requirement already satisfied: d2l==0.14.4 in /Users/spencer/opt/miniconda3/lib/python3.8/site-packages (0.14.4)\n",
      "Requirement already satisfied: jupyter in /Users/spencer/opt/miniconda3/lib/python3.8/site-packages (from d2l==0.14.4) (1.0.0)\n",
      "Requirement already satisfied: numpy in /Users/spencer/opt/miniconda3/lib/python3.8/site-packages (from d2l==0.14.4) (1.19.2)\n",
      "Requirement already satisfied: pandas in /Users/spencer/opt/miniconda3/lib/python3.8/site-packages (from d2l==0.14.4) (1.1.3)\n",
      "Requirement already satisfied: matplotlib in /Users/spencer/opt/miniconda3/lib/python3.8/site-packages (from d2l==0.14.4) (3.3.2)\n",
      "Requirement already satisfied: notebook in /Users/spencer/opt/miniconda3/lib/python3.8/site-packages (from jupyter->d2l==0.14.4) (6.1.4)\n",
      "Requirement already satisfied: qtconsole in /Users/spencer/opt/miniconda3/lib/python3.8/site-packages (from jupyter->d2l==0.14.4) (4.7.7)\n",
      "Requirement already satisfied: ipykernel in /Users/spencer/opt/miniconda3/lib/python3.8/site-packages (from jupyter->d2l==0.14.4) (5.3.4)\n",
      "Requirement already satisfied: jupyter-console in /Users/spencer/opt/miniconda3/lib/python3.8/site-packages (from jupyter->d2l==0.14.4) (6.2.0)\n",
      "Requirement already satisfied: nbconvert in /Users/spencer/opt/miniconda3/lib/python3.8/site-packages (from jupyter->d2l==0.14.4) (6.0.7)\n",
      "Requirement already satisfied: ipywidgets in /Users/spencer/opt/miniconda3/lib/python3.8/site-packages (from jupyter->d2l==0.14.4) (7.5.1)\n",
      "Requirement already satisfied: python-dateutil>=2.7.3 in /Users/spencer/opt/miniconda3/lib/python3.8/site-packages (from pandas->d2l==0.14.4) (2.8.1)\n",
      "Requirement already satisfied: pytz>=2017.2 in /Users/spencer/opt/miniconda3/lib/python3.8/site-packages (from pandas->d2l==0.14.4) (2020.1)\n",
      "Requirement already satisfied: certifi>=2020.06.20 in /Users/spencer/opt/miniconda3/lib/python3.8/site-packages (from matplotlib->d2l==0.14.4) (2020.6.20)\n",
      "Requirement already satisfied: kiwisolver>=1.0.1 in /Users/spencer/opt/miniconda3/lib/python3.8/site-packages (from matplotlib->d2l==0.14.4) (1.2.0)\n",
      "Requirement already satisfied: pyparsing!=2.0.4,!=2.1.2,!=2.1.6,>=2.0.3 in /Users/spencer/opt/miniconda3/lib/python3.8/site-packages (from matplotlib->d2l==0.14.4) (2.4.7)\n",
      "Requirement already satisfied: pillow>=6.2.0 in /Users/spencer/opt/miniconda3/lib/python3.8/site-packages (from matplotlib->d2l==0.14.4) (8.0.0)\n",
      "Requirement already satisfied: cycler>=0.10 in /Users/spencer/opt/miniconda3/lib/python3.8/site-packages (from matplotlib->d2l==0.14.4) (0.10.0)\n",
      "Requirement already satisfied: jupyter-core>=4.6.1 in /Users/spencer/opt/miniconda3/lib/python3.8/site-packages (from notebook->jupyter->d2l==0.14.4) (4.6.3)\n",
      "Requirement already satisfied: terminado>=0.8.3 in /Users/spencer/opt/miniconda3/lib/python3.8/site-packages (from notebook->jupyter->d2l==0.14.4) (0.9.1)\n",
      "Requirement already satisfied: argon2-cffi in /Users/spencer/opt/miniconda3/lib/python3.8/site-packages (from notebook->jupyter->d2l==0.14.4) (20.1.0)\n",
      "Requirement already satisfied: traitlets>=4.2.1 in /Users/spencer/opt/miniconda3/lib/python3.8/site-packages (from notebook->jupyter->d2l==0.14.4) (5.0.5)\n",
      "Requirement already satisfied: nbformat in /Users/spencer/opt/miniconda3/lib/python3.8/site-packages (from notebook->jupyter->d2l==0.14.4) (5.0.8)\n",
      "Requirement already satisfied: jinja2 in /Users/spencer/opt/miniconda3/lib/python3.8/site-packages (from notebook->jupyter->d2l==0.14.4) (2.11.2)\n",
      "Requirement already satisfied: jupyter-client>=5.3.4 in /Users/spencer/opt/miniconda3/lib/python3.8/site-packages (from notebook->jupyter->d2l==0.14.4) (6.1.7)\n",
      "Requirement already satisfied: prometheus-client in /Users/spencer/opt/miniconda3/lib/python3.8/site-packages (from notebook->jupyter->d2l==0.14.4) (0.8.0)\n",
      "Requirement already satisfied: tornado>=5.0 in /Users/spencer/opt/miniconda3/lib/python3.8/site-packages (from notebook->jupyter->d2l==0.14.4) (6.0.4)\n",
      "Requirement already satisfied: Send2Trash in /Users/spencer/opt/miniconda3/lib/python3.8/site-packages (from notebook->jupyter->d2l==0.14.4) (1.5.0)\n",
      "Requirement already satisfied: ipython-genutils in /Users/spencer/opt/miniconda3/lib/python3.8/site-packages (from notebook->jupyter->d2l==0.14.4) (0.2.0)\n",
      "Requirement already satisfied: pyzmq>=17 in /Users/spencer/opt/miniconda3/lib/python3.8/site-packages (from notebook->jupyter->d2l==0.14.4) (19.0.2)\n",
      "Requirement already satisfied: qtpy in /Users/spencer/opt/miniconda3/lib/python3.8/site-packages (from qtconsole->jupyter->d2l==0.14.4) (1.9.0)\n",
      "Requirement already satisfied: pygments in /Users/spencer/opt/miniconda3/lib/python3.8/site-packages (from qtconsole->jupyter->d2l==0.14.4) (2.7.1)\n",
      "Requirement already satisfied: appnope; platform_system == \"Darwin\" in /Users/spencer/opt/miniconda3/lib/python3.8/site-packages (from ipykernel->jupyter->d2l==0.14.4) (0.1.0)\n",
      "Requirement already satisfied: ipython>=5.0.0 in /Users/spencer/opt/miniconda3/lib/python3.8/site-packages (from ipykernel->jupyter->d2l==0.14.4) (7.18.1)\n",
      "Requirement already satisfied: prompt-toolkit!=3.0.0,!=3.0.1,<3.1.0,>=2.0.0 in /Users/spencer/opt/miniconda3/lib/python3.8/site-packages (from jupyter-console->jupyter->d2l==0.14.4) (3.0.8)\n",
      "Requirement already satisfied: mistune<2,>=0.8.1 in /Users/spencer/opt/miniconda3/lib/python3.8/site-packages (from nbconvert->jupyter->d2l==0.14.4) (0.8.4)\n",
      "Requirement already satisfied: jupyterlab-pygments in /Users/spencer/opt/miniconda3/lib/python3.8/site-packages (from nbconvert->jupyter->d2l==0.14.4) (0.1.2)\n",
      "Requirement already satisfied: bleach in /Users/spencer/opt/miniconda3/lib/python3.8/site-packages (from nbconvert->jupyter->d2l==0.14.4) (3.2.1)\n",
      "Requirement already satisfied: pandocfilters>=1.4.1 in /Users/spencer/opt/miniconda3/lib/python3.8/site-packages (from nbconvert->jupyter->d2l==0.14.4) (1.4.2)\n",
      "Requirement already satisfied: testpath in /Users/spencer/opt/miniconda3/lib/python3.8/site-packages (from nbconvert->jupyter->d2l==0.14.4) (0.4.4)\n",
      "Requirement already satisfied: nbclient<0.6.0,>=0.5.0 in /Users/spencer/opt/miniconda3/lib/python3.8/site-packages (from nbconvert->jupyter->d2l==0.14.4) (0.5.0)\n",
      "Requirement already satisfied: entrypoints>=0.2.2 in /Users/spencer/opt/miniconda3/lib/python3.8/site-packages (from nbconvert->jupyter->d2l==0.14.4) (0.3)\n",
      "Requirement already satisfied: defusedxml in /Users/spencer/opt/miniconda3/lib/python3.8/site-packages (from nbconvert->jupyter->d2l==0.14.4) (0.6.0)\n",
      "Requirement already satisfied: widgetsnbextension~=3.5.0 in /Users/spencer/opt/miniconda3/lib/python3.8/site-packages (from ipywidgets->jupyter->d2l==0.14.4) (3.5.1)\n",
      "Requirement already satisfied: six>=1.5 in /Users/spencer/opt/miniconda3/lib/python3.8/site-packages (from python-dateutil>=2.7.3->pandas->d2l==0.14.4) (1.15.0)\n",
      "Requirement already satisfied: ptyprocess; os_name != \"nt\" in /Users/spencer/opt/miniconda3/lib/python3.8/site-packages (from terminado>=0.8.3->notebook->jupyter->d2l==0.14.4) (0.6.0)\n",
      "Requirement already satisfied: cffi>=1.0.0 in /Users/spencer/opt/miniconda3/lib/python3.8/site-packages (from argon2-cffi->notebook->jupyter->d2l==0.14.4) (1.14.2)\n",
      "Requirement already satisfied: jsonschema!=2.5.0,>=2.4 in /Users/spencer/opt/miniconda3/lib/python3.8/site-packages (from nbformat->notebook->jupyter->d2l==0.14.4) (3.2.0)\n",
      "Requirement already satisfied: MarkupSafe>=0.23 in /Users/spencer/opt/miniconda3/lib/python3.8/site-packages (from jinja2->notebook->jupyter->d2l==0.14.4) (1.1.1)\n",
      "Requirement already satisfied: decorator in /Users/spencer/opt/miniconda3/lib/python3.8/site-packages (from ipython>=5.0.0->ipykernel->jupyter->d2l==0.14.4) (4.4.2)\n",
      "Requirement already satisfied: backcall in /Users/spencer/opt/miniconda3/lib/python3.8/site-packages (from ipython>=5.0.0->ipykernel->jupyter->d2l==0.14.4) (0.2.0)\n",
      "Requirement already satisfied: jedi>=0.10 in /Users/spencer/opt/miniconda3/lib/python3.8/site-packages (from ipython>=5.0.0->ipykernel->jupyter->d2l==0.14.4) (0.17.2)\n",
      "Requirement already satisfied: setuptools>=18.5 in /Users/spencer/opt/miniconda3/lib/python3.8/site-packages (from ipython>=5.0.0->ipykernel->jupyter->d2l==0.14.4) (49.6.0.post20200814)\n",
      "Requirement already satisfied: pexpect>4.3; sys_platform != \"win32\" in /Users/spencer/opt/miniconda3/lib/python3.8/site-packages (from ipython>=5.0.0->ipykernel->jupyter->d2l==0.14.4) (4.8.0)\n",
      "Requirement already satisfied: pickleshare in /Users/spencer/opt/miniconda3/lib/python3.8/site-packages (from ipython>=5.0.0->ipykernel->jupyter->d2l==0.14.4) (0.7.5)\n",
      "Requirement already satisfied: wcwidth in /Users/spencer/opt/miniconda3/lib/python3.8/site-packages (from prompt-toolkit!=3.0.0,!=3.0.1,<3.1.0,>=2.0.0->jupyter-console->jupyter->d2l==0.14.4) (0.2.5)\n",
      "Requirement already satisfied: packaging in /Users/spencer/opt/miniconda3/lib/python3.8/site-packages (from bleach->nbconvert->jupyter->d2l==0.14.4) (20.4)\n",
      "Requirement already satisfied: webencodings in /Users/spencer/opt/miniconda3/lib/python3.8/site-packages (from bleach->nbconvert->jupyter->d2l==0.14.4) (0.5.1)\n",
      "Requirement already satisfied: async-generator in /Users/spencer/opt/miniconda3/lib/python3.8/site-packages (from nbclient<0.6.0,>=0.5.0->nbconvert->jupyter->d2l==0.14.4) (1.10)\n",
      "Requirement already satisfied: nest-asyncio in /Users/spencer/opt/miniconda3/lib/python3.8/site-packages (from nbclient<0.6.0,>=0.5.0->nbconvert->jupyter->d2l==0.14.4) (1.4.1)\n",
      "Requirement already satisfied: pycparser in /Users/spencer/opt/miniconda3/lib/python3.8/site-packages (from cffi>=1.0.0->argon2-cffi->notebook->jupyter->d2l==0.14.4) (2.20)\n",
      "Requirement already satisfied: attrs>=17.4.0 in /Users/spencer/opt/miniconda3/lib/python3.8/site-packages (from jsonschema!=2.5.0,>=2.4->nbformat->notebook->jupyter->d2l==0.14.4) (20.2.0)\n"
     ]
    },
    {
     "name": "stdout",
     "output_type": "stream",
     "text": [
      "Requirement already satisfied: pyrsistent>=0.14.0 in /Users/spencer/opt/miniconda3/lib/python3.8/site-packages (from jsonschema!=2.5.0,>=2.4->nbformat->notebook->jupyter->d2l==0.14.4) (0.17.3)\r\n",
      "Requirement already satisfied: parso<0.8.0,>=0.7.0 in /Users/spencer/opt/miniconda3/lib/python3.8/site-packages (from jedi>=0.10->ipython>=5.0.0->ipykernel->jupyter->d2l==0.14.4) (0.7.1)\r\n"
     ]
    }
   ],
   "source": [
    "!pip install d2l==0.14.4\n",
    "from d2l import torch as d2l\n",
    "from zipfile import ZipFile\n",
    "import torch\n",
    "import copy\n",
    "from torch import nn\n",
    "import matplotlib.pyplot as plt\n",
    "import seaborn\n",
    "seaborn.set_context(context=\"talk\")\n",
    "import os"
   ]
  },
  {
   "cell_type": "code",
   "execution_count": 2,
   "metadata": {
    "id": "hAZtSrXHBonE"
   },
   "outputs": [],
   "source": [
    "def read_data_nmt(lang):\n",
    "    with open(lang + '.txt', 'r') as f:\n",
    "        return f.read()"
   ]
  },
  {
   "cell_type": "code",
   "execution_count": 3,
   "metadata": {
    "id": "gFeX_3lNK3PS"
   },
   "outputs": [],
   "source": [
    "def preprocess_nmt(text):\n",
    "    text = text.replace('\\u202f', ' ').replace('\\xa0', ' ').lower()\n",
    "    out = ['']\n",
    "\n",
    "    tabs = 0\n",
    "    for i, char in enumerate(text):\n",
    "        if char == '\\t':\n",
    "            tabs += 1\n",
    "        if tabs > 1 and char != '\\n':\n",
    "            continue\n",
    "        elif tabs > 1:\n",
    "            tabs = 0\n",
    "        if i > 0:\n",
    "            if char in set(',.!?') and text[i-1] != ' ':\n",
    "                out.append(' ' + char)\n",
    "                continue\n",
    "        if char in set('¡¿') and text[i+1] != ' ':\n",
    "            out.append(char + ' ')\n",
    "            continue\n",
    "        out.append(char)\n",
    "\n",
    "    return ''.join(out)"
   ]
  },
  {
   "cell_type": "code",
   "execution_count": 4,
   "metadata": {
    "id": "WVdJOJj4SVZ8"
   },
   "outputs": [],
   "source": [
    "def tokenize_nmt(text, num_examples=None):\n",
    "    source, target = [], []\n",
    "    for i, line in enumerate(text.split('\\n')):\n",
    "        if num_examples and i > num_examples:\n",
    "            break\n",
    "        parts = line.split('\\t')\n",
    "        if len(parts) == 2:\n",
    "            source.append(parts[0].split(' '))\n",
    "            target.append(parts[1].split(' '))\n",
    "    return source, target"
   ]
  },
  {
   "cell_type": "code",
   "execution_count": 5,
   "metadata": {
    "id": "-De1t21PTtSG"
   },
   "outputs": [],
   "source": [
    "def truncate_pad(line, num_steps, padding_token):\n",
    "    if len(line) > num_steps:\n",
    "        return line[:num_steps]\n",
    "    return line + [padding_token] * (num_steps - len(line))"
   ]
  },
  {
   "cell_type": "code",
   "execution_count": 6,
   "metadata": {
    "id": "bDNgCwNOTtES"
   },
   "outputs": [],
   "source": [
    "def build_array(lines, vocab, num_steps, is_source):\n",
    "    lines = [vocab[l] for l in lines]\n",
    "    if not is_source:\n",
    "        lines = [[vocab['<bos>']] + l + [vocab['<eos>']] for l in lines]\n",
    "    array = torch.tensor([truncate_pad(\n",
    "        l, num_steps, vocab['<pad>']) for l in lines])\n",
    "    valid_len = (array != vocab['<pad>']).sum(dim=1)\n",
    "    return array, valid_len"
   ]
  },
  {
   "cell_type": "code",
   "execution_count": 7,
   "metadata": {
    "id": "7ZJgrGZNTRWT"
   },
   "outputs": [],
   "source": [
    "def load_data_nmt(lang, batch_size, num_steps, num_examples=1000):\n",
    "    text = preprocess_nmt(read_data_nmt(lang))\n",
    "    source, target = tokenize_nmt(text, num_examples)\n",
    "    src_vocab = d2l.Vocab(source, min_freq=3, reserved_tokens=['<pad>', '<bos>', '<eos>'])\n",
    "    tgt_vocab = d2l.Vocab(target, min_freq=3, reserved_tokens=['<pad>', '<bos>', '<eos>'])\n",
    "    src_array, src_valid_len = build_array(source, src_vocab, num_steps, True)\n",
    "    tgt_array, tgt_valid_len = build_array(target, tgt_vocab, num_steps, False)\n",
    "    data_arrays = (src_array, src_valid_len, tgt_array, tgt_valid_len)\n",
    "    data_iter = d2l.load_array(data_arrays, batch_size)\n",
    "    return src_vocab, tgt_vocab, data_iter"
   ]
  },
  {
   "cell_type": "code",
   "execution_count": 8,
   "metadata": {
    "id": "EIyJSE_WUilZ"
   },
   "outputs": [],
   "source": [
    "def stringify_embedding(embedding):\n",
    "    return embedding.weight.tolist()\n",
    "\n",
    "def stringify_lstm(lstm):\n",
    "    weights = []\n",
    "\n",
    "    layer0 = [lstm.weight_ih_l0.tolist(), lstm.weight_hh_l0.tolist(), lstm.bias_ih_l0.tolist(), lstm.bias_hh_l0.tolist()]\n",
    "    weights.append(layer0)\n",
    "    if lstm.num_layers > 1:\n",
    "        layer1 = [lstm.weight_ih_l1.tolist(), lstm.weight_hh_l1.tolist(), lstm.bias_ih_l1.tolist(), lstm.bias_hh_l1.tolist()]\n",
    "        weights.append(layer1)\n",
    "    if lstm.num_layers > 2:\n",
    "        layer2 = [lstm.weight_ih_l2.tolist(), lstm.weight_hh_l2.tolist(), lstm.bias_ih_l2.tolist(), lstm.bias_hh_l2.tolist()]\n",
    "        weights.append(layer2)\n",
    "    if lstm.num_layers > 3:\n",
    "        layer3 = [lstm.weight_ih_l3.tolist(), lstm.weight_hh_l3.tolist(), lstm.bias_ih_l3.tolist(), lstm.bias_hh_l3.tolist()]\n",
    "        weights.append(layer3)\n",
    "    if lstm.num_layers > 4:\n",
    "        layer4 = [lstm.weight_ih_l4.tolist(), lstm.weight_hh_l4.tolist(), lstm.bias_ih_l4.tolist(), lstm.bias_hh_l4.tolist()]\n",
    "        weights.append(layer4)\n",
    "    if lstm.num_layers > 5:\n",
    "        layer5 = [lstm.weight_ih_l5.tolist(), lstm.weight_hh_l5.tolist(), lstm.bias_ih_l5.tolist(), lstm.bias_hh_l5.tolist()]\n",
    "        weights.append(layer5)\n",
    "    if lstm.num_layers > 6:\n",
    "        layer6 = [lstm.weight_ih_l6.tolist(), lstm.weight_hh_l6.tolist(), lstm.bias_ih_l6.tolist(), lstm.bias_hh_l6.tolist()]\n",
    "        weights.append(layer6)\n",
    "    if lstm.num_layers > 7:\n",
    "        layer7 = [lstm.weight_ih_l7.tolist(), lstm.weight_hh_l7.tolist(), lstm.bias_ih_l7.tolist(), lstm.bias_hh_l7.tolist()]\n",
    "        weights.append(layer7)\n",
    "    if lstm.num_layers > 8:\n",
    "        raise Exception(\"too many LSTM layers for current save implementation\")\n",
    "    \n",
    "    return [lstm.input_size, lstm.hidden_size, lstm.num_layers, lstm.dropout, weights]\n",
    "\n",
    "def stringify_linear(linear):\n",
    "    if linear.bias == None:\n",
    "        return [linear.in_features, linear.out_features, linear.weight.tolist()]\n",
    "    else:\n",
    "        return [linear.in_features, linear.out_features, linear.weight.tolist(), linear.bias.tolist()]\n",
    "\n",
    "def stringify_dropout(dropout):\n",
    "    return [dropout.p, dropout.inplace]\n",
    "\n",
    "def stringify_mlp_attention(mlp):\n",
    "    layers = []\n",
    "    layers.append(stringify_linear(mlp.W_k))\n",
    "    layers.append(stringify_linear(mlp.W_q))\n",
    "    layers.append(stringify_linear(mlp.v))\n",
    "    layers.append(stringify_dropout(mlp.dropout))\n",
    "    \n",
    "    return layers"
   ]
  },
  {
   "cell_type": "code",
   "execution_count": 9,
   "metadata": {
    "id": "rxlxXweOkER6"
   },
   "outputs": [],
   "source": [
    "def string_to_list(string):\n",
    "    l, index = sub_string_to_list(string, 1)\n",
    "    return l\n",
    "\n",
    "def sub_string_to_list(string, index):\n",
    "    i, l, s = index, [], []\n",
    "\n",
    "    def append(value):\n",
    "        if len(value) > 0:\n",
    "            value = ''.join(s)\n",
    "            try:\n",
    "                value = float(value)\n",
    "                if value == int(value):\n",
    "                    value = int(value)\n",
    "            except ValueError:\n",
    "                value = str(value)\n",
    "                if value == 'True':\n",
    "                    value = True\n",
    "                elif value == 'False':\n",
    "                    value = False\n",
    "            l.append(value)\n",
    "\n",
    "    while i < len(string):\n",
    "        if string[i] == '[':\n",
    "            sublist, i = sub_string_to_list(string, i+1)\n",
    "            l.append(sublist)\n",
    "        elif string[i] == ',':\n",
    "            append(s)\n",
    "            s = []\n",
    "            i += 2\n",
    "        elif string[i] == ']':\n",
    "            append(s)\n",
    "            return l, i+1\n",
    "        else:\n",
    "            s.append(string[i])\n",
    "            i += 1\n",
    "    raise Exception(\"improperly formatted list\")\n",
    "\n",
    "def embedding_from_list(embedding, device):\n",
    "    return nn.Embedding.from_pretrained(torch.tensor(embedding, device=device))\n",
    "\n",
    "def lstm_from_list(lstm, device):\n",
    "    rnn = nn.LSTM(lstm[0], lstm[1], lstm[2], dropout=lstm[3])\n",
    "    rnn.weight_ih_l0 = nn.Parameter(torch.tensor(lstm[4][0][0], device=device))\n",
    "    rnn.weight_hh_l0 = nn.Parameter(torch.tensor(lstm[4][0][1], device=device))\n",
    "    rnn.bias_ih_l0 = nn.Parameter(torch.tensor(lstm[4][0][2], device=device))\n",
    "    rnn.bias_hh_l0 = nn.Parameter(torch.tensor(lstm[4][0][3], device=device))\n",
    "\n",
    "    if lstm[2] > 1:\n",
    "        rnn.weight_ih_l1 = nn.Parameter(torch.tensor(lstm[4][1][0], device=device))\n",
    "        rnn.weight_hh_l1 = nn.Parameter(torch.tensor(lstm[4][1][1], device=device))\n",
    "        rnn.bias_ih_l1 = nn.Parameter(torch.tensor(lstm[4][1][2], device=device))\n",
    "        rnn.bias_hh_l1 = nn.Parameter(torch.tensor(lstm[4][1][3], device=device))\n",
    "    if lstm[2] > 2:\n",
    "        rnn.weight_ih_l2 = nn.Parameter(torch.tensor(lstm[4][2][0], device=device))\n",
    "        rnn.weight_hh_l2 = nn.Parameter(torch.tensor(lstm[4][2][1], device=device))\n",
    "        rnn.bias_ih_l2 = nn.Parameter(torch.tensor(lstm[4][2][2], device=device))\n",
    "        rnn.bias_hh_l2 = nn.Parameter(torch.tensor(lstm[4][2][3], device=device))\n",
    "    if lstm[2] > 3:\n",
    "        rnn.weight_ih_l3 = nn.Parameter(torch.tensor(lstm[4][3][0], device=device))\n",
    "        rnn.weight_hh_l3 = nn.Parameter(torch.tensor(lstm[4][3][1], device=device))\n",
    "        rnn.bias_ih_l3 = nn.Parameter(torch.tensor(lstm[4][3][2], device=device))\n",
    "        rnn.bias_hh_l3 = nn.Parameter(torch.tensor(lstm[4][3][3], device=device))\n",
    "    if lstm[2] > 4:\n",
    "        rnn.weight_ih_l4 = nn.Parameter(torch.tensor(lstm[4][4][0], device=device))\n",
    "        rnn.weight_hh_l4 = nn.Parameter(torch.tensor(lstm[4][4][1], device=device))\n",
    "        rnn.bias_ih_l4 = nn.Parameter(torch.tensor(lstm[4][4][2], device=device))\n",
    "        rnn.bias_hh_l4 = nn.Parameter(torch.tensor(lstm[4][4][3], device=device))\n",
    "    if lstm[2] > 5:\n",
    "        rnn.weight_ih_l5 = nn.Parameter(torch.tensor(lstm[4][5][0], device=device))\n",
    "        rnn.weight_hh_l5 = nn.Parameter(torch.tensor(lstm[4][5][1], device=device))\n",
    "        rnn.bias_ih_l5 = nn.Parameter(torch.tensor(lstm[4][5][2], device=device))\n",
    "        rnn.bias_hh_l5 = nn.Parameter(torch.tensor(lstm[4][5][3], device=device))\n",
    "    if lstm[2] > 6:\n",
    "        rnn.weight_ih_l6 = nn.Parameter(torch.tensor(lstm[4][6][0], device=device))\n",
    "        rnn.weight_hh_l6 = nn.Parameter(torch.tensor(lstm[4][6][1], device=device))\n",
    "        rnn.bias_ih_l6 = nn.Parameter(torch.tensor(lstm[4][6][2], device=device))\n",
    "        rnn.bias_hh_l6 = nn.Parameter(torch.tensor(lstm[4][6][3], device=device))\n",
    "    if lstm[2] > 7:\n",
    "        rnn.weight_ih_l7 = nn.Parameter(torch.tensor(lstm[4][7][0], device=device))\n",
    "        rnn.weight_hh_l7 = nn.Parameter(torch.tensor(lstm[4][7][1], device=device))\n",
    "        rnn.bias_ih_l7 = nn.Parameter(torch.tensor(lstm[4][7][2], device=device))\n",
    "        rnn.bias_hh_l7 = nn.Parameter(torch.tensor(lstm[4][7][3], device=device))\n",
    "    if lstm[2] > 8:\n",
    "        raise Exception(\"too many LSTM layers for current read implementation\")\n",
    "\n",
    "    return rnn\n",
    "\n",
    "def linear_from_list(linear, device):\n",
    "    dense = nn.Linear(linear[0], linear[1], len(linear) > 3)\n",
    "    dense.weight = nn.Parameter(torch.tensor(linear[2], device=device))\n",
    "    if len(linear) > 3:\n",
    "        dense.bias = nn.Parameter(torch.tensor(linear[3], device=device))\n",
    "    \n",
    "    return dense\n",
    "\n",
    "def dropout_from_list(dropout):\n",
    "    return nn.Dropout(dropout[0], dropout[1])\n",
    "\n",
    "def mlp_attention_from_list(mlp, device):\n",
    "    attention = MLPAttention(1, 1, 1, 1)\n",
    "    attention.W_k = linear_from_list(mlp[0], device)\n",
    "    attention.W_q = linear_from_list(mlp[1], device)\n",
    "    attention.v = linear_from_list(mlp[2], device)\n",
    "    attention.dropout = dropout_from_list(mlp[3])\n",
    "    \n",
    "    return attention"
   ]
  },
  {
   "cell_type": "code",
   "execution_count": 10,
   "metadata": {},
   "outputs": [],
   "source": [
    "class MLPAttention(nn.Module):\n",
    "    def __init__(self, key_size, query_size, units, dropout, **kwargs):\n",
    "        super(MLPAttention, self).__init__(**kwargs)\n",
    "        self.W_k = nn.Linear(key_size, units, bias=False)\n",
    "        self.W_q = nn.Linear(query_size, units, bias=False)\n",
    "        self.v = nn.Linear(units, 1, bias=False)\n",
    "        self.dropout = nn.Dropout(dropout)\n",
    "\n",
    "    def forward(self, query, key, value, valid_len):\n",
    "        query, key = self.W_q(query), self.W_k(key)\n",
    "        features = query.unsqueeze(2) + key.unsqueeze(1)\n",
    "        features = torch.tanh(features)\n",
    "        scores = self.v(features).squeeze(-1)\n",
    "        attention_weights = self.dropout(masked_softmax(scores, valid_len))\n",
    "        return torch.bmm(attention_weights, value)"
   ]
  },
  {
   "cell_type": "code",
   "execution_count": 11,
   "metadata": {
    "id": "qlqScVdkWASe"
   },
   "outputs": [],
   "source": [
    "class Seq2SeqEncoder(d2l.Encoder):\n",
    "    def __init__(self, vocab_size, embed_size, num_hiddens, num_layers,\n",
    "                 dropout=0, **kwargs):\n",
    "        super(Seq2SeqEncoder, self).__init__(**kwargs)\n",
    "        self.embedding = nn.Embedding(vocab_size, embed_size)\n",
    "        self.rnn = nn.LSTM(embed_size, num_hiddens, num_layers, dropout=dropout)\n",
    "\n",
    "    def forward(self, X, *args):\n",
    "        X = self.embedding(X)\n",
    "        X = X.permute(1, 0, 2)\n",
    "        out, state = self.rnn(X)\n",
    "        return out, state\n",
    "\n",
    "    def stringify(self):\n",
    "        return [stringify_embedding(self.embedding), stringify_lstm(self.rnn)]"
   ]
  },
  {
   "cell_type": "code",
   "execution_count": 12,
   "metadata": {},
   "outputs": [],
   "source": [
    "class Seq2SeqDecoder(d2l.Decoder):\n",
    "    def __init__(self, vocab_size, embed_size, num_hiddens, num_layers, dropout=0, **kwargs):\n",
    "        super(Seq2SeqDecoder, self).__init__(**kwargs)\n",
    "        self.embedding = nn.Embedding(vocab_size, embed_size)\n",
    "        self.rnn = nn.LSTM(embed_size, num_hiddens, num_layers, dropout=dropout)\n",
    "        self.dense = nn.Linear(num_hiddens, vocab_size)\n",
    "\n",
    "    def init_state(self, enc_outputs, *args):\n",
    "        return enc_outputs[1]\n",
    "\n",
    "    def forward(self, X, state):\n",
    "        X = self.embedding(X).permute(1, 0, 2)\n",
    "        out, state = self.rnn(X, state)\n",
    "        out = self.dense(out).permute(1, 0, 2)\n",
    "        return out, state\n",
    "    \n",
    "    def stringify(self):\n",
    "        return [stringify_embedding(self.embedding), stringify_lstm(self.rnn), stringify_linear(self.dense)]"
   ]
  },
  {
   "cell_type": "code",
   "execution_count": 13,
   "metadata": {
    "id": "89d-BPWdWGMI"
   },
   "outputs": [],
   "source": [
    "class Seq2SeqAttentionDecoder(d2l.Decoder):\n",
    "    def __init__(self, vocab_size, embed_size, num_hiddens, num_layers, dropout=0, **kwargs):\n",
    "        super(Seq2SeqAttentionDecoder, self).__init__(**kwargs)\n",
    "        self.attention_cell = MLPAttention(num_hiddens, num_hiddens, num_hiddens, dropout)\n",
    "        self.embedding = nn.Embedding(vocab_size, embed_size)\n",
    "        self.rnn = nn.LSTM(embed_size+num_hiddens, num_hiddens, num_layers, dropout=dropout)\n",
    "        self.dense = nn.Linear(num_hiddens, vocab_size)\n",
    "\n",
    "    def init_state(self, enc_outputs, enc_valid_len, *args):\n",
    "        outputs, hidden_state = enc_outputs\n",
    "        return (outputs.permute(1, 0, 2), hidden_state, enc_valid_len)\n",
    "\n",
    "    def forward(self, X, state):\n",
    "        enc_outputs, hidden_state, enc_valid_len = state\n",
    "        X = self.embedding(X).permute(1, 0, 2)\n",
    "        outputs = []\n",
    "        for x in X:\n",
    "            query = torch.unsqueeze(hidden_state[0][-1], dim=1)\n",
    "            context = self.attention_cell(\n",
    "                query, enc_outputs, enc_outputs, enc_valid_len)\n",
    "            x = torch.cat((context, torch.unsqueeze(x, dim=1)), dim=-1)\n",
    "            out, hidden_state = self.rnn(x.permute(1, 0, 2), hidden_state)\n",
    "            outputs.append(out)\n",
    "        outputs = self.dense(torch.cat(outputs, dim=0))\n",
    "        return outputs.permute(1, 0, 2), [enc_outputs, hidden_state, enc_valid_len]\n",
    "\n",
    "    def stringify(self):\n",
    "        return [stringify_mlp_attention(self.attention_cell), stringify_embedding(self.embedding), stringify_lstm(self.rnn), stringify_linear(self.dense)]"
   ]
  },
  {
   "cell_type": "code",
   "execution_count": 14,
   "metadata": {
    "id": "L_TCWoQGXMS-"
   },
   "outputs": [],
   "source": [
    "class Encoder(nn.Module):\n",
    "    \"\"\"The base encoder interface for the encoder-decoder architecture.\"\"\"\n",
    "    def __init__(self, **kwargs):\n",
    "        super(Encoder, self).__init__(**kwargs)\n",
    "\n",
    "    def forward(self, X, *args):\n",
    "        raise NotImplementedError\n",
    "    \n",
    "    def stringify(self):\n",
    "        raise NotImplementedError\n",
    "\n",
    "class Decoder(nn.Module):\n",
    "    \"\"\"The base decoder interface for the encoder-decoder architecture.\"\"\"\n",
    "    def __init__(self, **kwargs):\n",
    "        super(Decoder, self).__init__(**kwargs)\n",
    "\n",
    "    def init_state(self, enc_outputs, *args):\n",
    "        raise NotImplementedError\n",
    "\n",
    "    def forward(self, X, state):\n",
    "        raise NotImplementedError\n",
    "    \n",
    "    def stringify(self):\n",
    "        raise NotImplementedError\n",
    "\n",
    "class EncoderDecoder(nn.Module):\n",
    "    \"\"\"The base class for the encoder-decoder architecture.\"\"\"\n",
    "    def __init__(self, encoder, decoder, **kwargs):\n",
    "        super(EncoderDecoder, self).__init__(**kwargs)\n",
    "        self.encoder = encoder\n",
    "        self.decoder = decoder\n",
    "\n",
    "    def forward(self, enc_X, dec_X, *args):\n",
    "        enc_outputs = self.encoder(enc_X, *args)\n",
    "        dec_state = self.decoder.init_state(enc_outputs, *args)\n",
    "        return self.decoder(dec_X, dec_state)\n",
    "    \n",
    "    def stringify(self):\n",
    "        return [self.encoder.stringify(), self.decoder.stringify()]"
   ]
  },
  {
   "cell_type": "code",
   "execution_count": 15,
   "metadata": {
    "id": "yQjGUMkVWxiG"
   },
   "outputs": [],
   "source": [
    "def sequence_mask(X, valid_len, value=0):\n",
    "    maxlen = X.size(1)\n",
    "    mask = torch.arange((maxlen), dtype=torch.float32,\n",
    "                        device=X.device)[None, :] < valid_len[:, None]\n",
    "    X[~mask] = value\n",
    "    return X"
   ]
  },
  {
   "cell_type": "code",
   "execution_count": 16,
   "metadata": {},
   "outputs": [],
   "source": [
    "def masked_softmax(X, valid_len):\n",
    "    \"\"\"Perform softmax by filtering out some elements.\"\"\"\n",
    "    if valid_len is None:\n",
    "        return nn.functional.softmax(X, dim=-1)\n",
    "    else:\n",
    "        shape = X.shape\n",
    "        if valid_len.dim() == 1:\n",
    "            valid_len = torch.repeat_interleave(valid_len, repeats=shape[1],\n",
    "                                                dim=0)\n",
    "        else:\n",
    "            valid_len = valid_len.reshape(-1)\n",
    "        X = d2l.sequence_mask(X.reshape(-1, shape[-1]), valid_len, value=-1e6)\n",
    "        return nn.functional.softmax(X.reshape(shape), dim=-1)"
   ]
  },
  {
   "cell_type": "code",
   "execution_count": 17,
   "metadata": {
    "id": "wIfkTyW0Wm4d"
   },
   "outputs": [],
   "source": [
    "class MaskedSoftmaxCELoss(nn.CrossEntropyLoss):\n",
    "    def forward(self, pred, label, valid_len):\n",
    "        weights = torch.ones_like(label)\n",
    "        weights = sequence_mask(weights, valid_len)\n",
    "        self.reduction='none'\n",
    "        unweighted_loss = super(MaskedSoftmaxCELoss, self).forward(pred.permute(0,2,1), label)\n",
    "        weighted_loss = (unweighted_loss*weights).mean(dim=1)\n",
    "        return weighted_loss"
   ]
  },
  {
   "cell_type": "code",
   "execution_count": 18,
   "metadata": {},
   "outputs": [],
   "source": [
    "def minimize_loss(lang, device):\n",
    "    best_params = []\n",
    "    for num_examples in [50000]:\n",
    "        best_rate = 0\n",
    "        best_rate_params = []\n",
    "        for batch_size in [192, 256]:\n",
    "            num_steps = 10\n",
    "            src_vocab, tgt_vocab, train_iter = load_data_nmt(lang, batch_size, num_steps, num_examples)\n",
    "            for embed_size in [8, 16]:\n",
    "                for num_hiddens in [96, 128]:\n",
    "                    for num_layers in [8]:\n",
    "                        for dropout in [0.1]:\n",
    "                            encoder = Seq2SeqEncoder(len(src_vocab), embed_size, num_hiddens, num_layers, dropout)\n",
    "                            decoder = Seq2SeqAttentionDecoder(len(tgt_vocab), embed_size, num_hiddens, num_layers, dropout)\n",
    "                            model = EncoderDecoder(encoder, decoder)\n",
    "                            for lr in [0.0025]:\n",
    "                                print('Embed size', embed_size, 'For batch size', batch_size)\n",
    "                                graph = train(model, train_iter, lr, 20, device)\n",
    "                                loss_rate = graph[9][1] - graph[19][1]\n",
    "                                if loss_rate > best_rate:\n",
    "                                    best_rate_params = [embed_size, num_hiddens, num_layers,\n",
    "                                                        dropout, batch_size, num_steps,\n",
    "                                                        num_examples, lr]\n",
    "                                    best_rate = loss_rate\n",
    "        best_params.append([num_examples, best_rate_params])\n",
    "    return best_params"
   ]
  },
  {
   "cell_type": "code",
   "execution_count": 19,
   "metadata": {
    "id": "1EVg0MULWZmW"
   },
   "outputs": [],
   "source": [
    "def train(model, data_iter, lr, num_epochs, device):\n",
    "    def xavier_init_weights(m):\n",
    "        if type(m) == nn.Linear:\n",
    "            torch.nn.init.xavier_uniform_(m.weight)\n",
    "        if type(m) == nn.LSTM:\n",
    "            for param in m._flat_weights_names:\n",
    "                if \"weight\" in param:\n",
    "                    torch.nn.init.xavier_uniform_(m._parameters[param])\n",
    "    model.apply(xavier_init_weights)\n",
    "    model.to(device)\n",
    "    optimizer = torch.optim.Adam(model.parameters(), lr=lr)\n",
    "    loss = MaskedSoftmaxCELoss()\n",
    "    model.train()\n",
    "    animator = d2l.Animator(xlabel='epoch', ylabel='loss',\n",
    "                            xlim=[1, num_epochs], ylim=[0, 0.25])\n",
    "    graph = []\n",
    "    for epoch in range(1, num_epochs + 1):\n",
    "        timer = d2l.Timer()\n",
    "        metric = d2l.Accumulator(2)  # loss_sum, num_tokens\n",
    "        for batch in data_iter:\n",
    "            X, X_vlen, Y, Y_vlen = [x.to(device) for x in batch]\n",
    "            Y_input, Y_label, Y_vlen = Y[:, :-1], Y[:, 1:], Y_vlen-1\n",
    "            print(X)\n",
    "            Y_hat, _ = model(X, Y_input, X_vlen, Y_vlen)\n",
    "            l = loss(Y_hat, Y_label, Y_vlen)\n",
    "            l.sum().backward() # Making the loss scalar for backward()\n",
    "            d2l.grad_clipping(model, 1)\n",
    "            num_tokens = Y_vlen.sum()\n",
    "            optimizer.step()\n",
    "            with torch.no_grad():\n",
    "                metric.add(l.sum(), num_tokens)\n",
    "        if epoch % 10 == 0:\n",
    "            animator.add(epoch, (metric[0]/metric[1],))\n",
    "        graph.append([epoch, metric[0]/metric[1]])\n",
    "    print(f'loss {metric[0] / metric[1]:.3f}, {metric[1] / timer.stop():.1f} '\n",
    "          f'tokens/sec on {str(device)}')\n",
    "    return graph"
   ]
  },
  {
   "cell_type": "code",
   "execution_count": 20,
   "metadata": {
    "id": "I60gDFlEPSm9"
   },
   "outputs": [],
   "source": [
    "def sort_highest_k(y, k, device):\n",
    "    y_red = y\n",
    "    result = torch.tensor([[0, 0, 0]], device=device) # probability, token index, sequence index\n",
    "    for k_i in range(k):\n",
    "        highest = y_red[0]\n",
    "        highest_index = 0\n",
    "        for y_i in range(len(y_red)):\n",
    "            if y_red[y_i][0] > highest[0]:\n",
    "                highest = y_red[y_i]\n",
    "                highest_index = y_i\n",
    "        result = torch.cat((result, highest.reshape(1,3)), dim=0)\n",
    "        y_red = torch.cat((y_red[:highest_index], y_red[highest_index+1:]), dim=0)\n",
    "    return result[1:]"
   ]
  },
  {
   "cell_type": "code",
   "execution_count": 21,
   "metadata": {
    "id": "iA1vNcQXfxBk"
   },
   "outputs": [],
   "source": [
    "def completed(prediction, eos):\n",
    "    if len(prediction[0]) > 0:\n",
    "        return True if prediction[0][-1] == eos else False\n",
    "    return False"
   ]
  },
  {
   "cell_type": "code",
   "execution_count": 65,
   "metadata": {
    "id": "6dF5VW_hYyyk"
   },
   "outputs": [],
   "source": [
    "def predict(model, src_sentence, src_vocab, tgt_vocab, num_steps, search_width, device):\n",
    "    src_tokens = src_vocab[src_sentence.lower().split(' ')]\n",
    "    enc_valid_len = torch.tensor([len(src_tokens)], device=device)\n",
    "    src_tokens = d2l.truncate_pad(src_tokens, num_steps, src_vocab['<pad>'])\n",
    "    enc_X = torch.tensor(src_tokens, dtype=torch.long, device=device)\n",
    "    enc_outputs = model.encoder(torch.unsqueeze(enc_X, dim=0), enc_valid_len)\n",
    "\n",
    "    states, inputs, predictions, state_logs = [], [], [], []\n",
    "    for _ in range(search_width):\n",
    "#         states.append([model.decoder.init_state(enc_outputs, enc_valid_len)])\n",
    "#         for i in range(num_steps):\n",
    "#             state_set.append(0)\n",
    "#         states.append(state_set)\n",
    "        states.append(model.decoder.init_state(enc_outputs, enc_valid_len))\n",
    "        inputs.append(torch.unsqueeze(torch.tensor([tgt_vocab['<bos>']], dtype=torch.long, device=device), dim=0))\n",
    "        predictions.append([[], 1.0, 0])\n",
    "    eos = tgt_vocab['<eos>']\n",
    "    \n",
    "    def add_state_to_log(state, prediction):\n",
    "        found = False\n",
    "        new_index = 0\n",
    "        for state_log in state_logs:\n",
    "            if prediction[2] == state_log[0]:\n",
    "                found = True\n",
    "                state_log[1].append(state)\n",
    "                break\n",
    "            if state_log[0] > new_index:\n",
    "                new_index = state_log[0]\n",
    "        \n",
    "        if not found:\n",
    "            state_logs.append([new_index, [state]])\n",
    "            \n",
    "    def get_log(prediction):\n",
    "        for state_log in state_logs:\n",
    "            if state_log[0] == prediction[2]:\n",
    "                return state_log\n",
    "    \n",
    "#     def last_state_index(state_set):\n",
    "#         last = state_set[0]\n",
    "#         for element in state_set[1:]:\n",
    "            \n",
    "\n",
    "    for i in range(num_steps):\n",
    "        y = torch.tensor([], device=device) # probability, token index, sequence index\n",
    "        for k in range(search_width if i > 0 else 1):\n",
    "            if completed(predictions[k], eos): continue\n",
    "#             y_sub, state_sub = model.decoder(inputs[k], states[k][len(states[k])-1])\n",
    "#             states[k].append(state_sub)\n",
    "#             print(states[k][i])\n",
    "            y_sub, new_state = model.decoder(inputs[k], states[k])\n",
    "            states[k] = new_state\n",
    "            add_state_to_log(new_state, predictions[k])\n",
    "#             y_sub, state_sub = model.decoder(inputs[k], states[k][-1])\n",
    "#             states[k].append(state_sub)\n",
    "            for y_sub_i in range(y_sub.numel()):\n",
    "                y = torch.cat((y, torch.tensor([y_sub[0][0][y_sub_i], y_sub_i, k]).reshape(1,3)), dim=0)\n",
    "        y_sorted = sort_highest_k(y, len(inputs), device)\n",
    "        \n",
    "        new_predictions, new_states, new_inputs = [], [], []\n",
    "        done_predictions, done_states = [], []\n",
    "        for y_i in range(y_sorted.shape[0]):\n",
    "            new_prediction = copy.deepcopy(predictions[int(y_sorted[y_i][2])])\n",
    "            new_prediction[0].append(y_sorted[y_i][1].squeeze(dim=0).type(torch.int32).item())\n",
    "            new_prediction[1] = new_prediction[1]*y_sorted[y_i][0].item()\n",
    "            if not completed(new_prediction, eos):\n",
    "                new_predictions.append(new_prediction)\n",
    "                new_states.append(states[int(y_sorted[y_i][2])])\n",
    "                new_inputs.append(torch.tensor([[int(y_sorted[y_i][1])]], dtype=torch.long, device=device))\n",
    "            else:\n",
    "                done_predictions.append(new_prediction)\n",
    "                done_states.append(states[int(y_sorted[y_i][2])])\n",
    "        for p in done_predictions:\n",
    "            new_predictions.append(p)\n",
    "        for s in done_states:\n",
    "            new_states.append(s)\n",
    "        for k in range(len(predictions)):\n",
    "            if completed(predictions[k], eos):\n",
    "                new_predictions.append(predictions[k])\n",
    "                new_states.append(states[k])\n",
    "        predictions, states, inputs = new_predictions, new_states, new_inputs\n",
    "\n",
    "        if len(inputs) == 0: break\n",
    "\n",
    "    best_prediction = predictions[0]\n",
    "#     best_state = states[0]\n",
    "    for i in range(1, len(predictions)):\n",
    "        if predictions[i][1] > best_prediction[1]:\n",
    "            best_prediction = predictions[i]\n",
    "#             best_state = states[i]\n",
    "    return ' '.join(tgt_vocab.to_tokens(best_prediction[0][:-1])), get_log(best_prediction)[1]"
   ]
  },
  {
   "cell_type": "code",
   "execution_count": 23,
   "metadata": {
    "id": "vHkTYOlKHt03"
   },
   "outputs": [],
   "source": [
    "def save_model(lang, filename, model, num_examples):\n",
    "    path = 'A4-2_' + lang + '_model_' + filename + '.txt'\n",
    "    with open(path, 'w') as f:\n",
    "        f.write(str([model.stringify(), num_examples]))\n",
    "\n",
    "def load_model(lang, filename, attention, device):\n",
    "    path = 'A4-2_' + lang + '_model_' + filename + '.txt'\n",
    "    with open(path, 'r') as f:\n",
    "        model_list = string_to_list(f.read())\n",
    "        \n",
    "        encoder = Seq2SeqEncoder(1, 1, 1, 1)\n",
    "        encoder.embedding = embedding_from_list(model_list[0][0][0], device)\n",
    "        encoder.rnn = lstm_from_list(model_list[0][0][1], device)\n",
    "        \n",
    "        decoder = Seq2SeqAttentionDecoder(1, 1, 1, 1)\n",
    "        if attention:\n",
    "            decoder.attention_cell = mlp_attention_from_list(model_list[0][1][0], device)\n",
    "            decoder.embedding = embedding_from_list(model_list[0][1][1], device)\n",
    "            decoder.rnn = lstm_from_list(model_list[0][1][2], device)\n",
    "            decoder.dense = linear_from_list(model_list[0][1][3], device)\n",
    "        else:\n",
    "            decoder = Seq2SeqDecoder(1, 1, 1, 1)\n",
    "            decoder.embedding = embedding_from_list(model_list[0][1][0], device)\n",
    "            decoder.rnn = lstm_from_list(model_list[0][1][1], device)\n",
    "            decoder.dense = linear_from_list(model_list[0][1][2], device)\n",
    "        \n",
    "        model = EncoderDecoder(encoder, decoder)\n",
    "        \n",
    "        return model, num_examples\n",
    "\n",
    "def save_loss(lang, filename, graph):\n",
    "    path = 'A4-2_' + lang + '_loss_' + filename + '.csv'\n",
    "    with open(path, 'w') as f:\n",
    "        csv = \"\"\n",
    "        for p in graph:\n",
    "            csv = csv + (str(p[0]) + \",\" + str(p[1]) + \"\\n\")\n",
    "        f.write(csv[:-1])\n",
    "\n",
    "def save_best_params(lang, filename, best_params):\n",
    "    path = 'A4-2_' + lang + '_params_' + filename + '.csv'\n",
    "    with open(path, 'w') as f:\n",
    "        header = \"Parameter\"\n",
    "        embed = \"Embed Size\"\n",
    "        hiddens = \"Hiddens\"\n",
    "        layers = \"Layers\"\n",
    "        dropout = \"Dropout\"\n",
    "        batch = \"Batch Size\"\n",
    "        steps = \"Steps\"\n",
    "        examples = \"Examples\"\n",
    "        learn = \"Learn Rate\"\n",
    "        for best_param in best_params:\n",
    "            header = header + \",\" + str(best_param[0])\n",
    "            embed = embed + \",\" + str(best_param[1][0])\n",
    "            hiddens = hiddens + \",\" + str(best_param[1][1])\n",
    "            layers = layers + \",\" + str(best_param[1][2])\n",
    "            dropout = dropout + \",\" + str(best_param[1][3])\n",
    "            batch = batch + \",\" + str(best_param[1][4])\n",
    "            steps = steps + \",\" + str(best_param[1][5])\n",
    "            examples = examples + \",\" + str(best_param[1][6])\n",
    "            learn = learn + \",\" + str(best_param[1][7])\n",
    "        f.write(header+\"\\n\"+embed+\"\\n\"+hiddens+\"\\n\"+layers+\"\\n\"+dropout+\"\\n\"+batch+\"\\n\"+\n",
    "               steps+\"\\n\"+examples+\"\\n\"+learn)"
   ]
  },
  {
   "cell_type": "code",
   "execution_count": 24,
   "metadata": {
    "colab": {
     "base_uri": "https://localhost:8080/",
     "height": 139
    },
    "id": "qSV51i6Hi-4N",
    "outputId": "3a5a4e78-b618-4e06-e208-e6a46cd3acea"
   },
   "outputs": [],
   "source": [
    "def select_configuration(filename):\n",
    "    embed_size, num_hiddens, num_layers, dropout = 32, 32, 2, 0.0\n",
    "    batch_size, num_steps, num_examples = 64, 10, 1000\n",
    "    lr, num_epochs, search_width, device = 0.005, 100, 3, d2l.try_gpu()\n",
    "    \n",
    "    if filename == '2k':\n",
    "        embed_size, num_hiddens, num_layers, dropout = 16, 96, 4, 0.1\n",
    "        batch_size, num_steps, num_examples = 128, 10, 2000\n",
    "        lr, num_epochs, search_width, device = 0.0025, 400, 3, d2l.try_gpu()\n",
    "    elif filename == '10k':\n",
    "        embed_size, num_hiddens, num_layers, dropout = 8, 96, 8, 0.1\n",
    "        batch_size, num_steps, num_examples = 192, 10, 10000\n",
    "        lr, num_epochs, search_width, device = 0.0025, 500, 3, d2l.try_gpu()\n",
    "    elif filename == '10k-noa':\n",
    "        embed_size, num_hiddens, num_layers, dropout = 8, 96, 8, 0.1\n",
    "        batch_size, num_steps, num_examples = 192, 10, 10000\n",
    "        lr, num_epochs, search_width, device = 0.0025, 500, 3, d2l.try_gpu()\n",
    "    elif filename == '50k':\n",
    "        embed_size, num_hiddens, num_layers, dropout = 16, 128, 8, 0.1\n",
    "        batch_size, num_steps, num_examples = 256, 10, 50000\n",
    "        lr, num_epochs, search_width, device = 0.0025, 200, 3, d2l.try_gpu()\n",
    "    elif filename == '50k-nod':\n",
    "        embed_size, num_hiddens, num_layers, dropout = 16, 128, 8, 0.0\n",
    "        batch_size, num_steps, num_examples = 256, 10, 50000\n",
    "        lr, num_epochs, search_width, device = 0.0025, 200, 3, d2l.try_gpu()\n",
    "    elif filename == '50k-nod-noa':\n",
    "        embed_size, num_hiddens, num_layers, dropout = 16, 128, 8, 0.0\n",
    "        batch_size, num_steps, num_examples = 256, 10, 50000\n",
    "        lr, num_epochs, search_width, device = 0.0025, 200, 3, d2l.try_gpu()\n",
    "    elif filename == '50k-nod-long':\n",
    "        embed_size, num_hiddens, num_layers, dropout = 16, 128, 8, 0.0\n",
    "        batch_size, num_steps, num_examples = 256, 10, 50000\n",
    "        lr, num_epochs, search_width, device = 0.0025, 500, 3, d2l.try_gpu()\n",
    "    \n",
    "    return embed_size, num_hiddens, num_layers, dropout, batch_size, num_steps, \\\n",
    "        num_examples, lr, num_epochs, search_width, device"
   ]
  },
  {
   "cell_type": "code",
   "execution_count": 41,
   "metadata": {
    "colab": {
     "base_uri": "https://localhost:8080/",
     "height": 405
    },
    "id": "Rh7D61mfXbEj",
    "outputId": "b1566d8b-2d01-4d25-fe9c-585d218f8f79",
    "scrolled": false
   },
   "outputs": [],
   "source": [
    "# Spanish ('spa') model filenames\n",
    "#   '10k' - low quality translation, gets some words correct\n",
    "#   '50k' - low quality translation, gets some words correct (or related)\n",
    "#   '50k-nod' - medium quality translation, gets shorter phrases correct\n",
    "#   '50k-nod-noa' - low quality translation, very few words correct\n",
    "#   '50k-nod-long' - low quality translation, longer phrases have more words correct\n",
    "# Romanian ('ron') model filenames\n",
    "#   '10k' - low quality translation, gets some scattered words correct\n",
    "#   '10k-noa' - poor translation, only some related words\n",
    "# Note that the \"attention\" variable needs to be adjusted accordingly to the model\n",
    "lang, filename = 'spa', '50k-nod'\n",
    "train_model, save_graph, learn_parameters = False, False, False\n",
    "attention, graph_attention = True, True\n",
    "embed_size, num_hiddens, num_layers, dropout, batch_size, num_steps, \\\n",
    "    num_examples, lr, num_epochs, search_width, device = select_configuration(filename)\n",
    "\n",
    "if learn_parameters:\n",
    "    save_best_params(lang, filename, minimize_loss(lang, device))\n",
    "else:\n",
    "    if train_model:\n",
    "        src_vocab, tgt_vocab, train_iter = load_data_nmt(lang, batch_size, num_steps, num_examples)\n",
    "        encoder = Seq2SeqEncoder(len(src_vocab), embed_size, num_hiddens, num_layers, dropout)\n",
    "        if attention:\n",
    "            decoder = Seq2SeqAttentionDecoder(len(tgt_vocab), embed_size, num_hiddens, num_layers, dropout)\n",
    "        else:\n",
    "            decoder = Seq2SeqDecoder(len(tgt_vocab), embed_size, num_hiddens, num_layers, dropout)\n",
    "        model = EncoderDecoder(encoder, decoder)\n",
    "        graph = train(model, train_iter, lr, num_epochs, device)\n",
    "        if save_graph:\n",
    "            save_loss(lang, filename, graph)\n",
    "        save_model(lang, filename, model, num_examples)\n",
    "    else:\n",
    "        model, num_examples = load_model(lang, filename, attention, device)\n",
    "        src_vocab, tgt_vocab, train_iter = load_data_nmt(lang, batch_size, num_steps, num_examples)"
   ]
  },
  {
   "cell_type": "code",
   "execution_count": 67,
   "metadata": {
    "colab": {
     "base_uri": "https://localhost:8080/",
     "height": 102
    },
    "id": "jg0jw-feY5gm",
    "outputId": "0e919447-8bd8-4cfc-966c-a45ae11d8872",
    "scrolled": false
   },
   "outputs": [
    {
     "name": "stdout",
     "output_type": "stream",
     "text": [
      "Welcome home . => bienvenida a casa .\n",
      "Wow ! => ¡ órale !\n",
      "I'm OK . => he terminado .\n",
      "I won ! => ¡ he ganado !\n",
      "The party has started . => la <unk> se está quemando .\n",
      "My hovercraft is full of eels . => tu auto está en <unk> en la <unk> .\n",
      "It is an honor to be here . => hace tan difícil como divertido .\n",
      "What is mine is also yours . => lo . la <unk> es la favor .\n",
      "When they come looking , take a right turn and hide . => ¿ cuándo puedo <unk> a comer ?\n",
      "Build your own Spanish to English Translation System . => la cosa que él usted unos <unk> como razonable\n"
     ]
    },
    {
     "data": {
      "image/png": "[encoded data removed]",
      "text/plain": [
       "<Figure size 432x288 with 1 Axes>"
      ]
     },
     "metadata": {
      "needs_background": "light"
     },
     "output_type": "display_data"
    },
    {
     "data": {
      "image/png": "[encoded data removed]",
      "text/plain": [
       "<Figure size 432x288 with 1 Axes>"
      ]
     },
     "metadata": {
      "needs_background": "light"
     },
     "output_type": "display_data"
    },
    {
     "data": {
      "image/png": "[encoded data removed]",
      "text/plain": [
       "<Figure size 432x288 with 1 Axes>"
      ]
     },
     "metadata": {
      "needs_background": "light"
     },
     "output_type": "display_data"
    },
    {
     "data": {
      "image/png": "[encoded data removed]",
      "text/plain": [
       "<Figure size 432x288 with 1 Axes>"
      ]
     },
     "metadata": {
      "needs_background": "light"
     },
     "output_type": "display_data"
    },
    {
     "data": {
      "image/png": "[encoded data removed]",
      "text/plain": [
       "<Figure size 432x288 with 1 Axes>"
      ]
     },
     "metadata": {
      "needs_background": "light"
     },
     "output_type": "display_data"
    },
    {
     "data": {
      "image/png": "[encoded data removed]",
      "text/plain": [
       "<Figure size 432x288 with 1 Axes>"
      ]
     },
     "metadata": {
      "needs_background": "light"
     },
     "output_type": "display_data"
    },
    {
     "data": {
      "image/png": "[encoded data removed]",
      "text/plain": [
       "<Figure size 432x288 with 1 Axes>"
      ]
     },
     "metadata": {
      "needs_background": "light"
     },
     "output_type": "display_data"
    },
    {
     "data": {
      "image/png": "[encoded data removed]",
      "text/plain": [
       "<Figure size 432x288 with 1 Axes>"
      ]
     },
     "metadata": {
      "needs_background": "light"
     },
     "output_type": "display_data"
    },
    {
     "data": {
      "image/png": "[encoded data removed]",
      "text/plain": [
       "<Figure size 432x288 with 1 Axes>"
      ]
     },
     "metadata": {
      "needs_background": "light"
     },
     "output_type": "display_data"
    },
    {
     "data": {
      "image/png": "[encoded data removed]",
      "text/plain": [
       "<Figure size 432x288 with 1 Axes>"
      ]
     },
     "metadata": {
      "needs_background": "light"
     },
     "output_type": "display_data"
    }
   ],
   "source": [
    "test_sentences = [\n",
    "    'Welcome home .',\n",
    "    'Wow !',\n",
    "    \"I'm OK .\",\n",
    "    'I won !',\n",
    "    'The party has started .',\n",
    "    'My hovercraft is full of eels .',\n",
    "    'It is an honor to be here .',\n",
    "    'What is mine is also yours .',\n",
    "    'When they come looking , take a right turn and hide .',\n",
    "    'Build your own Spanish to English Translation System .'\n",
    "                 ]\n",
    "for sentence in test_sentences:\n",
    "    prediction, state = predict(model, sentence, src_vocab, tgt_vocab, num_steps, search_width, device)\n",
    "    print(sentence + ' => ' + prediction)\n",
    "#     print(state)\n",
    "    if attention and graph_attention:\n",
    "        prediction = prediction.split(' ')\n",
    "        prediction_tokenized = []\n",
    "        for step in range(len(prediction)):\n",
    "            prediction_tokenized.append(tgt_vocab[prediction[step]])\n",
    "        prediction_tokenized = torch.tensor(prediction_tokenized, device=device)\n",
    "        \n",
    "        def flip_x_y(matrix):\n",
    "            x_dim, y_dim = matrix.shape[0], matrix.shape[1]\n",
    "            flattened = matrix.reshape(-1)\n",
    "            \n",
    "            flipped = []\n",
    "            for y in range(y_dim):\n",
    "                row = []\n",
    "                for x in range(x_dim):\n",
    "                    row.append(matrix[x][(y_dim-y)-1].item())\n",
    "                flipped.append(row)\n",
    "            return torch.tensor(flipped, device=device)\n",
    "        \n",
    "        X = model.decoder.embedding(prediction_tokenized)\n",
    "        attn = model.decoder.attention_cell\n",
    "        step_output = []\n",
    "        for i in range(len(prediction)):\n",
    "            x = X[i]\n",
    "            enc_outputs, hidden_state, enc_valid_len = state[i]\n",
    "            query = torch.unsqueeze(hidden_state[0][-1], dim=1)\n",
    "            query, key = attn.W_q(query), attn.W_k(enc_outputs)\n",
    "            features = query.unsqueeze(2) + key.unsqueeze(1)\n",
    "            features = torch.tanh(features)\n",
    "            scores = attn.v(features).squeeze(-1)\n",
    "            attention_weights = attn.dropout(masked_softmax(scores, enc_valid_len)).reshape(-1)[:len(sentence.split(' '))]\n",
    "            step_output.append(attention_weights.tolist())\n",
    "        step_output = flip_x_y(torch.tensor(step_output, device=device))\n",
    "        fig, ax = plt.subplots()\n",
    "        seaborn.heatmap(step_output, xticklabels=prediction, square=True, yticklabels=sentence.split(' ')[::-1], vmin=0.0, vmax=1.0, cbar=False, ax=ax)"
   ]
  },
  {
   "cell_type": "code",
   "execution_count": null,
   "metadata": {},
   "outputs": [],
   "source": [
    "fig, ax = plt.subplots()\n",
    "pcm = ax.pcolormesh(X[indexVal][0].cpu().detach().numpy(), cmap='RdBu_r')\n",
    "ax.set_aspect(1)\n",
    "ax.set_title(\"Object of type \" + str(y[indexVal].item()) + \" layer \" + str((layerCounter % 2) + 1) + \" (first filter) activations\")\n",
    "fig.colorbar(pcm, ax=ax)\n",
    "\n",
    "# MLP Attention\n",
    "def forward(self, query, key, value, valid_len):\n",
    "    query, key = self.W_q(query), self.W_k(key)\n",
    "    features = query.unsqueeze(2) + key.unsqueeze(1)\n",
    "    features = torch.tanh(features)\n",
    "    scores = self.v(features).squeeze(-1)\n",
    "    attention_weights = self.dropout(masked_softmax(scores, valid_len))\n",
    "    return torch.bmm(attention_weights, value)\n",
    "\n",
    "# EncoderDecoder\n",
    "def forward(self, enc_X, dec_X, *args):\n",
    "    enc_outputs = self.encoder(enc_X, *args)\n",
    "    dec_state = self.decoder.init_state(enc_outputs, *args)\n",
    "    return self.decoder(dec_X, dec_state)\n",
    "\n",
    "# Decoder\n",
    "def forward(self, X, state):\n",
    "    enc_outputs, hidden_state, enc_valid_len = state\n",
    "    X = self.embedding(X).permute(1, 0, 2)\n",
    "    outputs = []\n",
    "    for x in X:\n",
    "        query = torch.unsqueeze(hidden_state[0][-1], dim=1)\n",
    "        context = self.attention_cell(\n",
    "            query, enc_outputs, enc_outputs, enc_valid_len)\n",
    "        x = torch.cat((context, torch.unsqueeze(x, dim=1)), dim=-1)\n",
    "        out, hidden_state = self.rnn(x.permute(1, 0, 2), hidden_state)\n",
    "        outputs.append(out)\n",
    "    outputs = self.dense(torch.cat(outputs, dim=0))\n",
    "    return outputs.permute(1, 0, 2), [enc_outputs, hidden_state, enc_valid_len]"
   ]
  }
 ],
 "metadata": {
  "colab": {
   "name": "Copy of Assignment4-2.ipynb",
   "provenance": []
  },
  "kernelspec": {
   "display_name": "Python 3",
   "language": "python",
   "name": "python3"
  },
  "language_info": {
   "codemirror_mode": {
    "name": "ipython",
    "version": 3
   },
   "file_extension": ".py",
   "mimetype": "text/x-python",
   "name": "python",
   "nbconvert_exporter": "python",
   "pygments_lexer": "ipython3",
   "version": "3.8.3"
  }
 },
 "nbformat": 4,
 "nbformat_minor": 1
}
